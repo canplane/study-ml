{
 "cells": [
  {
   "cell_type": "markdown",
   "id": "0c1ef573-5c92-43c0-aaf8-319d95d01d01",
   "metadata": {},
   "source": [
    "## Geoffrey Hinton's summary of findings up to today\n",
    "\n",
    "- Our labeled datasets were thousands of times too small.\n",
    "- Our computers were millions of times too slow.\n",
    "- We initialized the weights in a stupid way.\n",
    "- We used the wrong type of non-linearity."
   ]
  },
  {
   "cell_type": "code",
   "execution_count": null,
   "id": "90fa317d-7eda-4332-ae78-e1542d99674c",
   "metadata": {},
   "outputs": [],
   "source": []
  }
 ],
 "metadata": {
  "kernelspec": {
   "display_name": "Python 3 (ipykernel)",
   "language": "python",
   "name": "python3"
  },
  "language_info": {
   "codemirror_mode": {
    "name": "ipython",
    "version": 3
   },
   "file_extension": ".py",
   "mimetype": "text/x-python",
   "name": "python",
   "nbconvert_exporter": "python",
   "pygments_lexer": "ipython3",
   "version": "3.11.5"
  }
 },
 "nbformat": 4,
 "nbformat_minor": 5
}
