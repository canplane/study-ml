{
 "cells": [
  {
   "cell_type": "markdown",
   "id": "f4e2423d-7dc8-4237-a64a-b010597c9267",
   "metadata": {},
   "source": [
    "(231015)\n",
    "# Lab-01-1 Tensor Manipulation 1"
   ]
  },
  {
   "cell_type": "code",
   "execution_count": 1,
   "id": "0b98b333-6574-4fd4-8ec4-fd0eef9c3457",
   "metadata": {},
   "outputs": [],
   "source": [
    "import numpy as np\n",
    "import torch"
   ]
  },
  {
   "cell_type": "markdown",
   "id": "b0895803-0a7c-40c4-9934-1fb81d761a1b",
   "metadata": {},
   "source": [
    "### 1D Array w/ NumPy"
   ]
  },
  {
   "cell_type": "code",
   "execution_count": 6,
   "id": "28c375e2-4a8b-4447-a599-11530bfef245",
   "metadata": {
    "tags": []
   },
   "outputs": [
    {
     "name": "stdout",
     "output_type": "stream",
     "text": [
      "[0. 1. 2. 3. 4. 5. 6.]\n"
     ]
    }
   ],
   "source": [
    "t = np.array([ 0., 1., 2., 3., 4., 5., 6. ])\n",
    "print(t)"
   ]
  },
  {
   "cell_type": "code",
   "execution_count": 13,
   "id": "1883fafb-ad66-4c9e-ae17-59522760d404",
   "metadata": {
    "tags": []
   },
   "outputs": [
    {
     "name": "stdout",
     "output_type": "stream",
     "text": [
      "Rank of t:  1\n",
      "Shape of t:  torch.Size([7])\n"
     ]
    }
   ],
   "source": [
    "print(\"Rank of t: \", t.ndim)\n",
    "print(\"Shape of t: \", t.shape)"
   ]
  },
  {
   "cell_type": "code",
   "execution_count": 8,
   "id": "f3af3742-50cf-41c9-b7d4-62743f9d6eaa",
   "metadata": {
    "tags": []
   },
   "outputs": [
    {
     "name": "stdout",
     "output_type": "stream",
     "text": [
      "0.0 1.0 6.0\n",
      "[2. 3. 4.] [4. 5.]\n",
      "[0. 1.] [3. 4. 5. 6.]\n"
     ]
    }
   ],
   "source": [
    "print(t[0], t[1], t[-1])  # Element\n",
    "print(t[2:5], t[4:-1])  # Slicing\n",
    "print(t[:2], t[3:])  # Slicing"
   ]
  },
  {
   "cell_type": "markdown",
   "id": "48e5f4e6-68d6-4670-b79f-626db4d70430",
   "metadata": {},
   "source": [
    "### 2D Array w/ NumPy"
   ]
  },
  {
   "cell_type": "code",
   "execution_count": 10,
   "id": "a22d559e-c62b-4741-a85d-bb3fd709e705",
   "metadata": {
    "tags": []
   },
   "outputs": [
    {
     "name": "stdout",
     "output_type": "stream",
     "text": [
      "[[ 1.  2.  3.]\n",
      " [ 4.  5.  6.]\n",
      " [ 7.  8.  9.]\n",
      " [10. 11. 12.]]\n"
     ]
    }
   ],
   "source": [
    "t = np.array([[1., 2., 3.,], [4., 5., 6.,], [7., 8., 9.], [10., 11., 12.]])\n",
    "print(t)"
   ]
  },
  {
   "cell_type": "code",
   "execution_count": 32,
   "id": "b4e18718-5c3c-4c37-8fe9-d183272c408f",
   "metadata": {
    "tags": []
   },
   "outputs": [
    {
     "name": "stdout",
     "output_type": "stream",
     "text": [
      "Rank of t:  2\n",
      "Shape of t:  torch.Size([4, 3])\n"
     ]
    }
   ],
   "source": [
    "print(\"Rank of t: \", t.ndim)\n",
    "print(\"Shape of t: \", t.shape)"
   ]
  },
  {
   "cell_type": "markdown",
   "id": "4f66a542-85ca-4709-bd6b-902f0267e6da",
   "metadata": {
    "tags": []
   },
   "source": [
    "### 1D Array w/ PyTorch"
   ]
  },
  {
   "cell_type": "code",
   "execution_count": 12,
   "id": "952868ea-e22d-4b4f-982d-979e2f288329",
   "metadata": {
    "tags": []
   },
   "outputs": [
    {
     "name": "stdout",
     "output_type": "stream",
     "text": [
      "tensor([0., 1., 2., 3., 4., 5., 6.])\n"
     ]
    }
   ],
   "source": [
    "t = torch.FloatTensor([0., 1., 2., 3., 4., 5., 6.,])\n",
    "print(t)"
   ]
  },
  {
   "cell_type": "code",
   "execution_count": 14,
   "id": "549f8c1d-fd24-4179-b0cf-f4daddd09283",
   "metadata": {
    "tags": []
   },
   "outputs": [
    {
     "name": "stdout",
     "output_type": "stream",
     "text": [
      "1\n",
      "torch.Size([7])\n",
      "torch.Size([7])\n",
      "tensor(0.) tensor(1.) tensor(6.)\n",
      "tensor([2., 3., 4.]) tensor([4., 5.])\n",
      "tensor([0., 1.]) tensor([3., 4., 5., 6.])\n"
     ]
    }
   ],
   "source": [
    "print(t.dim())  # rank\n",
    "print(t.shape)\n",
    "print(t.size())  # shape\n",
    "print(t[0], t[1], t[-1])\n",
    "print(t[2:5], t[4:-1])\n",
    "print(t[:2], t[3:])\n"
   ]
  },
  {
   "cell_type": "markdown",
   "id": "4af76f5d-0b4d-4154-8214-b9a9ec768e28",
   "metadata": {},
   "source": [
    "### 2D Array w/ PyTorch"
   ]
  },
  {
   "cell_type": "code",
   "execution_count": 15,
   "id": "59c1753a-2132-4e1a-bb45-f43380713845",
   "metadata": {
    "tags": []
   },
   "outputs": [
    {
     "name": "stdout",
     "output_type": "stream",
     "text": [
      "tensor([[ 1.,  2.,  3.],\n",
      "        [ 4.,  5.,  6.],\n",
      "        [ 7.,  8.,  9.],\n",
      "        [10., 11., 12.]])\n"
     ]
    }
   ],
   "source": [
    "t = torch.FloatTensor([[1., 2., 3.,],\n",
    "                      [4., 5., 6.,],\n",
    "                      [7., 8., 9.,],\n",
    "                      [10., 11., 12.,],\n",
    "                      ])\n",
    "print(t)"
   ]
  },
  {
   "cell_type": "code",
   "execution_count": 20,
   "id": "c1b4020a-338e-470d-bb99-9cab9f1e81e5",
   "metadata": {
    "tags": []
   },
   "outputs": [
    {
     "name": "stdout",
     "output_type": "stream",
     "text": [
      "2\n",
      "torch.Size([4, 3])\n",
      "tensor([ 2.,  5.,  8., 11.])\n",
      "torch.Size([4])\n",
      "tensor([[ 1.,  2.],\n",
      "        [ 4.,  5.],\n",
      "        [ 7.,  8.],\n",
      "        [10., 11.]])\n"
     ]
    }
   ],
   "source": [
    "print(t.dim())\n",
    "print(t.size())\n",
    "print(t[:, 1])  # 1번째 차원에선 다 가져오고, 2번째 차원에서는 2번째 것만 가져와\n",
    "print(t[:, 1].size())\n",
    "print(t[:, :-1])"
   ]
  },
  {
   "cell_type": "markdown",
   "id": "419f4a29-d872-4600-b6bf-61e401dfa33c",
   "metadata": {
    "tags": []
   },
   "source": [
    "### Broadcasting"
   ]
  },
  {
   "cell_type": "code",
   "execution_count": 52,
   "id": "0fcdf871-4b53-4470-9afc-936785f57ae4",
   "metadata": {
    "tags": []
   },
   "outputs": [
    {
     "name": "stdout",
     "output_type": "stream",
     "text": [
      "tensor([[5., 5.]])\n",
      "tensor([[4., 5.]])\n",
      "tensor([[4., 5.],\n",
      "        [5., 6.]])\n"
     ]
    }
   ],
   "source": [
    "# Same space\n",
    "m1 = torch.FloatTensor([[3, 3]])\n",
    "m2 = torch.FloatTensor([[2, 2]])\n",
    "print(m1 + m2)\n",
    "\n",
    "# vector + scalar\n",
    "m1 = torch.FloatTensor([[1, 2]])\n",
    "m2 = torch.FloatTensor([3])\n",
    "print(m1 + m2)\n",
    "\n",
    "# 2x1 vector + 1x2 vector\n",
    "m1 = torch.FloatTensor([[1, 2]])\n",
    "m2 = torch.FloatTensor([[3], [4]])\n",
    "print(m1 + m2)"
   ]
  },
  {
   "cell_type": "code",
   "execution_count": 56,
   "id": "ceb592c1-01e3-4e0d-b942-fec8124ac743",
   "metadata": {
    "tags": []
   },
   "outputs": [
    {
     "name": "stdout",
     "output_type": "stream",
     "text": [
      "torch.Size([2, 2]) torch.Size([2, 1])\n",
      "tensor([[ 5.],\n",
      "        [11.]])\n",
      "tensor([[1., 2.],\n",
      "        [6., 8.]])\n",
      "tensor([[1., 2.],\n",
      "        [6., 8.]])\n"
     ]
    }
   ],
   "source": [
    "m1 = torch.FloatTensor([[1, 2], [3, 4]])  # (2, 2)\n",
    "m2 = torch.FloatTensor([[1], [2]])  # (2, 1)\n",
    "print(m1.shape, m2.shape)\n",
    "\n",
    "# matlix multiplication\n",
    "print(m1.matmul(m2))  # (2, 1)\n",
    "\n",
    "# element-wise product (Hadamard product)\n",
    "print(m1 * m2)  # (2, 2)\n",
    "print(m1.mul(m2))  # ditto"
   ]
  },
  {
   "cell_type": "markdown",
   "id": "69098eff-90dd-4cb0-ba61-3e7989c64341",
   "metadata": {},
   "source": [
    "### Mean, Sum"
   ]
  },
  {
   "cell_type": "code",
   "execution_count": 59,
   "id": "e221986d-3c03-474e-86d4-6c8494703ddd",
   "metadata": {
    "tags": []
   },
   "outputs": [
    {
     "name": "stdout",
     "output_type": "stream",
     "text": [
      "tensor(1.5000)\n",
      "mean(): could not infer output dtype. Input dtype must be either a floating point or complex dtype. Got: Long\n",
      "tensor([[1., 2.],\n",
      "        [3., 4.]])\n",
      "tensor(2.5000)\n",
      "tensor([2., 3.])\n",
      "tensor([1.5000, 3.5000])\n",
      "tensor([1.5000, 3.5000])\n"
     ]
    }
   ],
   "source": [
    "t = torch.FloatTensor([1, 2])\n",
    "print(t.mean())\n",
    "\n",
    "# Can't use mean() on integers\n",
    "t = torch.LongTensor([1, 2])\n",
    "try:\n",
    "    print(t.mean())\n",
    "except Exception as exc:\n",
    "    print(exc)\n",
    "    \n",
    "t = torch.FloatTensor([[1, 2], [3, 4]])\n",
    "print(t)\n",
    "print(t.mean())\n",
    "print(t.mean(dim=0))\n",
    "print(t.mean(dim=1))\n",
    "print(t.mean(dim=-1))  # dim=1 in here"
   ]
  },
  {
   "cell_type": "markdown",
   "id": "fa790f20-e71e-41d0-8702-335d56e06579",
   "metadata": {},
   "source": [
    "### Max and Argmax\n",
    "\n",
    "The `max` operator returns one value if it is called without an argument"
   ]
  },
  {
   "cell_type": "code",
   "execution_count": 71,
   "id": "7a1551cc-e762-4fb4-939e-97c0a79f09cc",
   "metadata": {
    "tags": []
   },
   "outputs": [
    {
     "name": "stdout",
     "output_type": "stream",
     "text": [
      "tensor([[1., 2.],\n",
      "        [3., 4.]])\n"
     ]
    }
   ],
   "source": [
    "t = torch.FloatTensor([[1, 2], [3, 4]])\n",
    "print(t)"
   ]
  },
  {
   "cell_type": "code",
   "execution_count": 70,
   "id": "e9c5c46c-a042-4c1f-b2d8-744f9a710e25",
   "metadata": {
    "tags": []
   },
   "outputs": [
    {
     "name": "stdout",
     "output_type": "stream",
     "text": [
      "tensor(4.)\n"
     ]
    }
   ],
   "source": [
    "print(t.max())"
   ]
  },
  {
   "cell_type": "markdown",
   "id": "1be1b019-f10d-4daf-aada-be032797109c",
   "metadata": {},
   "source": [
    "The `max` operator returns 2 values when called with dimension specified.\n",
    "\n",
    "`(maximum value, argmax: the index of the element with maximum value)`"
   ]
  },
  {
   "cell_type": "code",
   "execution_count": 69,
   "id": "424225de-9495-4b13-af47-b53bbcb2017b",
   "metadata": {
    "tags": []
   },
   "outputs": [
    {
     "name": "stdout",
     "output_type": "stream",
     "text": [
      "Max:  tensor([3., 4.])\n",
      "Argmax:  tensor([1, 1])\n"
     ]
    }
   ],
   "source": [
    "__max, __argmax = t.max(dim=0)\n",
    "print(\"Max: \", __max)\n",
    "print(\"Argmax: \", __argmax)"
   ]
  },
  {
   "cell_type": "code",
   "execution_count": null,
   "id": "93952495-e3d0-4113-a1f1-5606e571144f",
   "metadata": {},
   "outputs": [],
   "source": []
  }
 ],
 "metadata": {
  "kernelspec": {
   "display_name": "Python 3 (ipykernel)",
   "language": "python",
   "name": "python3"
  },
  "language_info": {
   "codemirror_mode": {
    "name": "ipython",
    "version": 3
   },
   "file_extension": ".py",
   "mimetype": "text/x-python",
   "name": "python",
   "nbconvert_exporter": "python",
   "pygments_lexer": "ipython3",
   "version": "3.11.5"
  }
 },
 "nbformat": 4,
 "nbformat_minor": 5
}
