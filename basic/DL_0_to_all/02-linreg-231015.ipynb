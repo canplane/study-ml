{
 "cells": [
  {
   "cell_type": "markdown",
   "id": "663f32c5-a2ff-4787-979f-aa2ce97a8082",
   "metadata": {},
   "source": [
    "(231015)\n",
    "# Lab-02 Linear Regression\n"
   ]
  },
  {
   "cell_type": "markdown",
   "id": "9bd55ffa-a751-47f6-87ac-ebe5c625ac04",
   "metadata": {},
   "source": [
    "다루고자 하는 주제\n",
    "* Data definition\n",
    "* Hypothesis\n",
    "* Compute loss\n",
    "* Gradient descent"
   ]
  },
  {
   "cell_type": "markdown",
   "id": "2c0695b1-32a6-41d4-8bc2-a318222d7899",
   "metadata": {},
   "source": [
    "e.g., 공부한 시간과 점수의 상관관계\n",
    "\n",
    "* 모델을 학습시킬 때 사용하는 것 -> training dataset\n",
    "* 모델이 얼마나 잘 작동하는지 테스트 -> test dataset"
   ]
  },
  {
   "cell_type": "code",
   "execution_count": 1,
   "id": "910e8bfe-5e6b-4d27-8c0f-9394c650d3f3",
   "metadata": {
    "tags": []
   },
   "outputs": [],
   "source": [
    "import torch\n",
    "from torch import optim"
   ]
  },
  {
   "cell_type": "code",
   "execution_count": 2,
   "id": "43b0d88a-85ca-4b25-8d8a-12f78ff6f227",
   "metadata": {
    "tags": []
   },
   "outputs": [],
   "source": [
    "# Data definition\n",
    "x_train = torch.FloatTensor([[1], [2], [3]])\n",
    "y_train = torch.FloatTensor([[4], [5], [6]])"
   ]
  },
  {
   "cell_type": "code",
   "execution_count": 3,
   "id": "ec4e3efe-f323-411c-9d35-53d41ae240cd",
   "metadata": {
    "tags": []
   },
   "outputs": [],
   "source": [
    "# Hypothesis: 우리의 모델 (lin. reg.는 학습 데이터와 가장 잘 맞는 하나의 직선을 찾는 일)\n",
    "W = torch.zeros(1, requires_grad=True)  # Weight와 Bias 0으로 초기화 -> 항상 출력 0을 예측\n",
    "b = torch.zeros(1, requires_grad=True)  # requires_grad = True -> 학습할 것이라고 명시"
   ]
  },
  {
   "cell_type": "code",
   "execution_count": 5,
   "id": "407064c4-3f91-4f87-9d4f-fbc04948db7d",
   "metadata": {
    "tags": []
   },
   "outputs": [],
   "source": [
    "optimizer = optim.SGD([W, b], lr=0.01)  # (Stochastic) gradient descent\n",
    "# [W, b]는 학습할 tensor들\n",
    "# lr = 0.01은 learning rate\n",
    "\n",
    "epochs = 1000\n",
    "for epoch in range(epochs):\n",
    "    hypothesis = x_train * W + b\n",
    "    loss = torch.mean((hypothesis - y_train) ** 2)  # MSE\n",
    "\n",
    "    # 항상 붙어다니는 3줄\n",
    "    #   zero_grad()로 gradient 초기화, backward()로 gradient 계산, step()으로 개선\n",
    "    optimizer.zero_grad()  # x.grad = 0 for x in [W, b]\n",
    "    loss.backward()  # x.grad += dloss/dx for x with requires_grad=True\n",
    "    optimizer.step()  # x += -lr * x.grad for x in [W, b] (if SGD optimizer)"
   ]
  },
  {
   "cell_type": "markdown",
   "id": "eba2df4d-a6fc-40c6-bc38-cf59ed0d8aea",
   "metadata": {},
   "source": [
    "* 한번만\n",
    "    1. 데이터 정의\n",
    "    2. Hypothesis 초기화\n",
    "    3. Optimizer 정의\n",
    "\n",
    "* 반복!\n",
    "    1. Hypothesis 예측\n",
    "    2. Cost 계산\n",
    "    3. Optimizer로 학습\n",
    "    "
   ]
  },
  {
   "cell_type": "code",
   "execution_count": null,
   "id": "241266af-f33e-4728-a01e-f583aa62d4f7",
   "metadata": {},
   "outputs": [],
   "source": []
  }
 ],
 "metadata": {
  "kernelspec": {
   "display_name": "Python 3 (ipykernel)",
   "language": "python",
   "name": "python3"
  },
  "language_info": {
   "codemirror_mode": {
    "name": "ipython",
    "version": 3
   },
   "file_extension": ".py",
   "mimetype": "text/x-python",
   "name": "python",
   "nbconvert_exporter": "python",
   "pygments_lexer": "ipython3",
   "version": "3.11.5"
  }
 },
 "nbformat": 4,
 "nbformat_minor": 5
}
