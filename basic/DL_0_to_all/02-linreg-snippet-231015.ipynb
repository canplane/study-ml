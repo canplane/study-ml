{
 "cells": [
  {
   "cell_type": "code",
   "execution_count": 1,
   "id": "04a79a80-c8d3-4ecc-81c1-acc5376aba09",
   "metadata": {
    "tags": []
   },
   "outputs": [],
   "source": [
    "import numpy as np\n",
    "import torch\n",
    "from torch import optim"
   ]
  },
  {
   "cell_type": "code",
   "execution_count": 2,
   "id": "fd1a7433-3712-430b-b1d3-31c7b79d67f9",
   "metadata": {
    "tags": []
   },
   "outputs": [],
   "source": [
    "# training set\n",
    "x_train = torch.FloatTensor([[1], [2], [3]])\n",
    "y_train = torch.FloatTensor([[4], [5], [6]])"
   ]
  },
  {
   "cell_type": "code",
   "execution_count": 3,
   "id": "14b59196-d7dd-4035-9fe1-7adace4a5cd1",
   "metadata": {
    "tags": []
   },
   "outputs": [],
   "source": [
    "# training\n",
    "W = torch.zeros(1, requires_grad=True)\n",
    "b = torch.zeros(1, requires_grad=True)\n",
    "optimizer = optim.SGD([W, b], lr=.01)\n",
    "\n",
    "epochs = 10000\n",
    "for _ in range(epochs):\n",
    "    hypothesis = x_train * W + b\n",
    "    loss = torch.mean((hypothesis - y_train) ** 2)\n",
    "    \n",
    "    optimizer.zero_grad()\n",
    "    loss.backward()\n",
    "    optimizer.step()"
   ]
  },
  {
   "cell_type": "code",
   "execution_count": 4,
   "id": "56ae9169-07ef-4b63-8d37-f4f02e694f2e",
   "metadata": {
    "tags": []
   },
   "outputs": [
    {
     "name": "stdout",
     "output_type": "stream",
     "text": [
      "tensor([1.0000], requires_grad=True) tensor([2.9999], requires_grad=True)\n"
     ]
    }
   ],
   "source": [
    "print(W, b)"
   ]
  },
  {
   "cell_type": "code",
   "execution_count": 5,
   "id": "8cae3dba-68fe-4a49-95de-b4194f7ddd2f",
   "metadata": {
    "tags": []
   },
   "outputs": [
    {
     "data": {
      "text/plain": [
       "[<matplotlib.lines.Line2D at 0x7f2b40605d90>]"
      ]
     },
     "execution_count": 5,
     "metadata": {},
     "output_type": "execute_result"
    },
    {
     "data": {
      "image/png": "[encoded data removed]",
      "text/plain": [
       "<Figure size 432x288 with 1 Axes>"
      ]
     },
     "metadata": {
      "needs_background": "light"
     },
     "output_type": "display_data"
    }
   ],
   "source": [
    "# visualization\n",
    "import matplotlib.pyplot as plt\n",
    "\n",
    "plt.scatter(x_train, y_train)\n",
    "\n",
    "W1, b1 = [_.detach().numpy() for _ in [W, b]]\n",
    "x1 = np.arange(x_train.min(), x_train.max() + .01, .01)\n",
    "y1 = x1 * W1 + b1\n",
    "plt.plot(x1, y1, c=\"orange\")"
   ]
  },
  {
   "cell_type": "code",
   "execution_count": null,
   "id": "a62f06bd-f3cc-4cf4-831f-dce6128f4ba0",
   "metadata": {},
   "outputs": [],
   "source": []
  }
 ],
 "metadata": {
  "kernelspec": {
   "display_name": "Python 3",
   "language": "python",
   "name": "python3"
  },
  "language_info": {
   "codemirror_mode": {
    "name": "ipython",
    "version": 3
   },
   "file_extension": ".py",
   "mimetype": "text/x-python",
   "name": "python",
   "nbconvert_exporter": "python",
   "pygments_lexer": "ipython3",
   "version": "3.8.18"
  }
 },
 "nbformat": 4,
 "nbformat_minor": 5
}
